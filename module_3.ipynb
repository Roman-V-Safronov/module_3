{
 "cells": [
  {
   "cell_type": "code",
   "execution_count": 212,
   "metadata": {},
   "outputs": [],
   "source": [
    "# Импортируем необходимые библиотеки:\n",
    "import pandas as pd\n",
    "# инструмент для создания и обучения модели\n",
    "from sklearn.ensemble import RandomForestRegressor\n",
    "from sklearn import metrics  # инструменты для оценки точности модели\n",
    "import string\n",
    "from datetime import datetime as dt\n",
    "# Загружаем специальный инструмент для разбивки:\n",
    "from sklearn.model_selection import train_test_split"
   ]
  },
  {
   "cell_type": "code",
   "execution_count": 213,
   "metadata": {},
   "outputs": [],
   "source": [
    "# Считываем данные из файла.\n",
    "df_train = pd.read_csv('main_task.csv')\n",
    "df_test = pd.read_csv('kaggle_task.csv')"
   ]
  },
  {
   "cell_type": "code",
   "execution_count": 214,
   "metadata": {},
   "outputs": [
    {
     "name": "stdout",
     "output_type": "stream",
     "text": [
      "<class 'pandas.core.frame.DataFrame'>\n",
      "RangeIndex: 40000 entries, 0 to 39999\n",
      "Data columns (total 10 columns):\n",
      " #   Column             Non-Null Count  Dtype  \n",
      "---  ------             --------------  -----  \n",
      " 0   Restaurant_id      40000 non-null  object \n",
      " 1   City               40000 non-null  object \n",
      " 2   Cuisine Style      30717 non-null  object \n",
      " 3   Ranking            40000 non-null  float64\n",
      " 4   Rating             40000 non-null  float64\n",
      " 5   Price Range        26114 non-null  object \n",
      " 6   Number of Reviews  37457 non-null  float64\n",
      " 7   Reviews            40000 non-null  object \n",
      " 8   URL_TA             40000 non-null  object \n",
      " 9   ID_TA              40000 non-null  object \n",
      "dtypes: float64(3), object(7)\n",
      "memory usage: 3.1+ MB\n"
     ]
    }
   ],
   "source": [
    "# Первый взгляд на данные\n",
    "df_train.info()"
   ]
  },
  {
   "cell_type": "code",
   "execution_count": 233,
   "metadata": {},
   "outputs": [],
   "source": [
    "# функции разные\n",
    "\n",
    "# чистим строку от ненужного шума\n",
    "def clean_noise(item):\n",
    "    return item.translate(str.maketrans(\"\", \"\", \"[]\"))\n",
    "\n",
    "# Разница в днях между датами в списке. Так как списки в файле или пустые или из двух элементов - вот такая заглушка\n",
    "\n",
    "\n",
    "def days_cnt(item):\n",
    "    if len(item) == 1:\n",
    "        return 0\n",
    "    else:\n",
    "        return abs((dt.strptime(item[0], \"'%m/%d/%Y'\") - dt.strptime(item[1], \"'%m/%d/%Y'\")).days)\n",
    "\n",
    "# проверка существования объекта в ячейке\n",
    "\n",
    "\n",
    "def find_item(cell):\n",
    "    if item in cell:\n",
    "        return 1\n",
    "    return 0"
   ]
  },
  {
   "cell_type": "markdown",
   "metadata": {},
   "source": [
    "# Первая проверка данных"
   ]
  },
  {
   "cell_type": "code",
   "execution_count": 216,
   "metadata": {},
   "outputs": [
    {
     "name": "stdout",
     "output_type": "stream",
     "text": [
      "MAE: 0.4341207666666666\n"
     ]
    }
   ],
   "source": [
    "# Разбиваем датафрейм на части, необходимые для обучения и тестирования модели\n",
    "# Х - данные с информацией о ресторанах, у - целевая переменная (рейтинги ресторанов)\n",
    "X = df_train.drop(\n",
    "    ['Restaurant_id', 'City', 'Cuisine Style', 'Rating', 'Price Range', 'Reviews', 'URL_TA', 'ID_TA'\n",
    "     ], axis=1\n",
    ")\n",
    "y = df_train['Rating']\n",
    "\n",
    "# Заполняем пропуски\n",
    "X = X.fillna(0)\n",
    "\n",
    "# Наборы данных с меткой \"train\" будут использоваться для обучения модели, \"test\" - для тестирования.\n",
    "# Для тестирования мы будем использовать 25% от исходного датасета.\n",
    "X_train, X_test, y_train, y_test = train_test_split(X, y, test_size=0.25)\n",
    "\n",
    "# Создаём модель\n",
    "regr = RandomForestRegressor(n_estimators=100)\n",
    "\n",
    "# Обучаем модель на тестовом наборе данных\n",
    "regr.fit(X_train, y_train)\n",
    "\n",
    "# Используем обученную модель для предсказания рейтинга ресторанов в тестовой выборке.\n",
    "# Предсказанные значения записываем в переменную y_pred\n",
    "y_pred = regr.predict(X_test)\n",
    "\n",
    "# Сравниваем предсказанные значения (y_pred) с реальными (y_test), и смотрим насколько они в среднем отличаются\n",
    "# Метрика называется Mean Absolute Error (MAE) и показывает среднее отклонение предсказанных значений от фактических.\n",
    "print('MAE:', metrics.mean_absolute_error(y_test, y_pred))"
   ]
  },
  {
   "cell_type": "code",
   "execution_count": 217,
   "metadata": {},
   "outputs": [
    {
     "data": {
      "text/plain": [
       "$$ - $$$    18412\n",
       "$            6279\n",
       "$$$$         1423\n",
       "Name: Price Range, dtype: int64"
      ]
     },
     "execution_count": 217,
     "metadata": {},
     "output_type": "execute_result"
    }
   ],
   "source": [
    "# 4.1 Вопросы о ценах\n",
    "df_train['Price Range'].value_counts()"
   ]
  },
  {
   "cell_type": "code",
   "execution_count": 218,
   "metadata": {},
   "outputs": [
    {
     "data": {
      "text/plain": [
       "31"
      ]
     },
     "execution_count": 218,
     "metadata": {},
     "output_type": "execute_result"
    }
   ],
   "source": [
    "# 4.2 Вопрос о городах\n",
    "len(df_train['City'].value_counts())"
   ]
  },
  {
   "cell_type": "markdown",
   "metadata": {},
   "source": [
    "# 4.3 Вопросы о кухнях"
   ]
  },
  {
   "cell_type": "code",
   "execution_count": 219,
   "metadata": {},
   "outputs": [
    {
     "data": {
      "text/plain": [
       "125"
      ]
     },
     "execution_count": 219,
     "metadata": {},
     "output_type": "execute_result"
    }
   ],
   "source": [
    "# Сколько типов кухонь представлено в наборе данных?\n",
    "cuisines = []  # создаём пустой список для хранения уникальных значений кухонь\n",
    "cuis_style = df_train['Cuisine Style']  # кухни ресторанов\n",
    "cuis_style = cuis_style.fillna('[]')\n",
    "for i in range(len(cuis_style)):  # перебираем рестораны/кухни\n",
    "    for cuisine in cuis_style[i].split(', '):  # перебираем кухни в ресторане\n",
    "        cuis_trans = cuisine.translate(str.maketrans(\n",
    "            \"\", \"\", \"[']\"))  # чистим запись о кухне от шума\n",
    "        if not(cuis_trans in cuisines):  # новая запись\n",
    "            cuisines.append(cuis_trans)  # добавляем его к списку cuisines\n",
    "len(cuisines)-1  # и не забываем отнять пустую кухню\n",
    "# split с explode будут потом. А тут - так. Понравился мне такой метод. Ну и на будущее"
   ]
  },
  {
   "cell_type": "code",
   "execution_count": 220,
   "metadata": {},
   "outputs": [
    {
     "data": {
      "text/plain": [
       "('Vegetarian Friendly', 11189)"
      ]
     },
     "execution_count": 220,
     "metadata": {},
     "output_type": "execute_result"
    }
   ],
   "source": [
    "# Какая кухня представлена в наибольшем количестве ресторанов?\n",
    "# продолжаем работать со словарями вместо split с explode\n",
    "rest_cu = {}  # создаём пустой словарь для хранения информации о кухнях ресторанов\n",
    "for item in cuisines:  # перебираем список кухонь\n",
    "    # добавляем в словарь ключ, соответствующий очередной кухне\n",
    "    rest_cu[item] = 0\n",
    "for i in range(len(cuis_style)):  # перебираем рестораны/кухни\n",
    "    for item in cuis_style[i].split(', '):  # перебираем кухни в ресторане\n",
    "        # чистим запись о кухне от шума\n",
    "        item = item.translate(str.maketrans(\"\", \"\", \"[']\"))\n",
    "        # увеличиваем значение нужного ключа в словаре на 1\n",
    "        rest_cu[item] += 1\n",
    "\n",
    "rest_cu_sort = list(rest_cu.items())\n",
    "rest_cu_sort.sort(key=lambda i: i[1])\n",
    "rest_cu_sort[len(rest_cu_sort)-1]"
   ]
  },
  {
   "cell_type": "code",
   "execution_count": 221,
   "metadata": {},
   "outputs": [
    {
     "name": "stdout",
     "output_type": "stream",
     "text": [
      "2.6\n"
     ]
    }
   ],
   "source": [
    "# Какое среднее количество кухонь предлагается в одном ресторане?\n",
    "z = 0\n",
    "for i in range(len(cuis_style)):  # перебираем рестораны/кухни\n",
    "    z += cuis_style[i].count(',')+1\n",
    "print(round(z/len(cuis_style), 1))"
   ]
  },
  {
   "cell_type": "markdown",
   "metadata": {},
   "source": [
    "# 4.4 Вопросы об отзывах"
   ]
  },
  {
   "cell_type": "code",
   "execution_count": 222,
   "metadata": {},
   "outputs": [],
   "source": [
    "# Пилим отзывы на собственно отзывы и даты\n",
    "# Тексты отзывов интересны тем, что в некоторых можно найти упоминание о кухне ресторана.\n",
    "# Даже у тех, у кого в перечне кухонь - собственно кухонь то и нет\n",
    "# То есть, имея больше времени - можно было бы получить нужные навыки в регулярных выражениях и попытаться эти кухни вынуть\n",
    "df_train['Review_text'] = df_train['Reviews']\n",
    "df_train['Review_text'] = df_train['Review_text'].apply(\n",
    "    lambda x: x[:str.rfind(x, '[')-2])\n",
    "df_train['Review_text'] = df_train['Review_text'].apply(lambda x: clean_noise(x))\n",
    "df_train['Review_text'] = df_train['Review_text'].str.split(', ')\n",
    "\n",
    "df_train['Review_date'] = df_train['Reviews']\n",
    "df_train['Review_date'] = df_train['Review_date'].apply(\n",
    "    lambda x: x[str.rfind(x, '['):])\n",
    "df_train['Review_date'] = df_train['Review_date'].apply(lambda x: clean_noise(x))\n",
    "df_train['Review_date'] = df_train['Review_date'].str.split(', ')"
   ]
  },
  {
   "cell_type": "code",
   "execution_count": 223,
   "metadata": {},
   "outputs": [
    {
     "data": {
      "text/plain": [
       "Timestamp('2018-02-26 00:00:00')"
      ]
     },
     "execution_count": 223,
     "metadata": {},
     "output_type": "execute_result"
    }
   ],
   "source": [
    "# Когда был оставлен самый свежий отзыв?\n",
    "max(pd.to_datetime(df_train['Review_date'].explode(), errors='ignore'))"
   ]
  },
  {
   "cell_type": "code",
   "execution_count": 224,
   "metadata": {},
   "outputs": [
    {
     "data": {
      "text/plain": [
       "3207"
      ]
     },
     "execution_count": 224,
     "metadata": {},
     "output_type": "execute_result"
    }
   ],
   "source": [
    "# Какое максимальное количество дней отделяет даты публикации отзывов, размещённых на сайте ресторана?\n",
    "df_train['Review_date_delta'] = df_train['Review_date'].apply(lambda x: days_cnt(x))\n",
    "max(df_train['Review_date_delta'].values)"
   ]
  },
  {
   "cell_type": "code",
   "execution_count": 225,
   "metadata": {},
   "outputs": [],
   "source": [
    "# Подумайте, есть вероятность того, что такой результат получился из-за неверного введения данных?\n",
    "# Может из-за того, что вместо \"1\" поставили \"0\". А может действительно отзывы за 10 лет."
   ]
  },
  {
   "cell_type": "markdown",
   "metadata": {},
   "source": [
    "# Задание 4.5 Итоги шага"
   ]
  },
  {
   "cell_type": "code",
   "execution_count": 226,
   "metadata": {},
   "outputs": [],
   "source": [
    "# Делаем списки кухонь\n",
    "data['Cuisines'] = data['Cuisine Style']\n",
    "data['Cuisines'] = data['Cuisines'].fillna(\"'Unknown'\")\n",
    "data['Cuisines'] = data['Cuisines'].apply(lambda x: clean_noise(x))\n",
    "data['Cuisines'] = data['Cuisines'].str.split(', ')"
   ]
  },
  {
   "cell_type": "code",
   "execution_count": 227,
   "metadata": {},
   "outputs": [],
   "source": [
    "# Переводим ценовые границы в цифру\n",
    "data['Price Range'] = data['Price Range'].fillna(0)\n",
    "pricerange_dict = {'$': 1, '$$ - $$$': 2, '$$$$': 3}\n",
    "data['Price_Range_Num'] = data['Price Range'].replace(\n",
    "    to_replace=pricerange_dict)"
   ]
  },
  {
   "cell_type": "code",
   "execution_count": 228,
   "metadata": {},
   "outputs": [],
   "source": [
    "# Записываем количество кухонь на ресторан\n",
    "data['Cuisines_Cnt'] = data['Cuisine Style'].apply(\n",
    "    lambda x: str(x).count(',')+1)"
   ]
  },
  {
   "cell_type": "code",
   "execution_count": 229,
   "metadata": {},
   "outputs": [
    {
     "name": "stdout",
     "output_type": "stream",
     "text": [
      "MAE: 0.38284762222222224\n"
     ]
    }
   ],
   "source": [
    "# Разбиваем датафрейм на части, необходимые для обучения и тестирования модели\n",
    "# Х - данные с информацией о ресторанах, у - целевая переменная (рейтинги ресторанов)\n",
    "X = data.drop(\n",
    "    ['Restaurant_id', 'City', 'Cuisine Style', 'Rating', 'Price Range', 'Reviews', 'URL_TA', 'ID_TA', 'Cuisines', 'Review_date', 'Review_text'\n",
    "     ], axis=1\n",
    ")\n",
    "y = data['Rating']\n",
    "\n",
    "# Заполняем пропуски\n",
    "X = X.fillna(0)\n",
    "\n",
    "# Наборы данных с меткой \"train\" будут использоваться для обучения модели, \"test\" - для тестирования.\n",
    "# Для тестирования мы будем использовать 25% от исходного датасета.\n",
    "X_train, X_test, y_train, y_test = train_test_split(X, y, test_size=0.25)\n",
    "\n",
    "# Создаём модель\n",
    "regr = RandomForestRegressor(n_estimators=100)\n",
    "\n",
    "# Обучаем модель на тестовом наборе данных\n",
    "regr.fit(X_train, y_train)\n",
    "\n",
    "# Используем обученную модель для предсказания рейтинга ресторанов в тестовой выборке.\n",
    "# Предсказанные значения записываем в переменную y_pred\n",
    "y_pred = regr.predict(X_test)\n",
    "\n",
    "# Сравниваем предсказанные значения (y_pred) с реальными (y_test), и смотрим насколько они в среднем отличаются\n",
    "# Метрика называется Mean Absolute Error (MAE) и показывает среднее отклонение предсказанных значений от фактических.\n",
    "print('MAE:', metrics.mean_absolute_error(y_test, y_pred))"
   ]
  },
  {
   "cell_type": "markdown",
   "metadata": {},
   "source": [
    "# ВТОРАЯ ПОПЫТКА"
   ]
  },
  {
   "cell_type": "code",
   "execution_count": 235,
   "metadata": {},
   "outputs": [],
   "source": [
    "# Делаем числовые метки кухонь - отдельными колонками\n",
    "for item in cuisines:\n",
    "    data[item] = data['Cuisines'].apply(find_item)"
   ]
  },
  {
   "cell_type": "code",
   "execution_count": 243,
   "metadata": {},
   "outputs": [],
   "source": [
    "# Города\n",
    "\n",
    "# делаем список городов\n",
    "cities = []  # создаём пустой список для хранения уникальных значений городов\n",
    "city_list = data['City']  # колонка с городами\n",
    "for i in range(len(city_list)):  # перебираем города\n",
    "    if not(city_list[i] in cities):  # новая запись\n",
    "        cities.append(city_list[i])  # добавляем его к списку cities\n",
    "\n",
    "# делаем цифровые метки-колонки под города\n",
    "for item in cities:\n",
    "    data[item] = data['City'].apply(find_item)"
   ]
  },
  {
   "cell_type": "code",
   "execution_count": 245,
   "metadata": {},
   "outputs": [
    {
     "name": "stdout",
     "output_type": "stream",
     "text": [
      "MAE: 0.214304\n"
     ]
    }
   ],
   "source": [
    "# Разбиваем датафрейм на части, необходимые для обучения и тестирования модели\n",
    "# Х - данные с информацией о ресторанах, у - целевая переменная (рейтинги ресторанов)\n",
    "X = data.drop(\n",
    "    ['Restaurant_id', 'City', 'Cuisine Style', 'Rating', 'Price Range', 'Reviews', 'URL_TA', 'ID_TA', 'Cuisines', 'Review_date', 'Review_text'\n",
    "     ], axis=1\n",
    ")\n",
    "y = data['Rating']\n",
    "\n",
    "# Заполняем пропуски\n",
    "X = X.fillna(0)\n",
    "\n",
    "# Наборы данных с меткой \"train\" будут использоваться для обучения модели, \"test\" - для тестирования.\n",
    "# Для тестирования мы будем использовать 25% от исходного датасета.\n",
    "X_train, X_test, y_train, y_test = train_test_split(X, y, test_size=0.25)\n",
    "\n",
    "# Создаём модель\n",
    "regr = RandomForestRegressor(n_estimators=100)\n",
    "\n",
    "# Обучаем модель на тестовом наборе данных\n",
    "regr.fit(X_train, y_train)\n",
    "\n",
    "# Используем обученную модель для предсказания рейтинга ресторанов в тестовой выборке.\n",
    "# Предсказанные значения записываем в переменную y_pred\n",
    "y_pred = regr.predict(X_test)\n",
    "\n",
    "# Сравниваем предсказанные значения (y_pred) с реальными (y_test), и смотрим насколько они в среднем отличаются\n",
    "# Метрика называется Mean Absolute Error (MAE) и показывает среднее отклонение предсказанных значений от фактических.\n",
    "print('MAE:', metrics.mean_absolute_error(y_test, y_pred))"
   ]
  },
  {
   "cell_type": "code",
   "execution_count": 249,
   "metadata": {},
   "outputs": [],
   "source": [
    "# В принципе - достаточно:\n",
    "# разброс оценок - половина балла (см. data['Rating'].value_counts())\n",
    "# то есть эту половину можно принять за единичное деление шкалы прибора, измеряющего рейтинг :)\n",
    "# ну а так как точность любого прибора - половина единичного деления шкалы измерения\n",
    "# то всё, что меньше 0.25 - уже достаточно точное\n",
    "# добавлять разбивку по странам или регионам Европы - даст маленький результат: потому что они оба зависят от городов\n",
    "# можно добавить размеры/количество жителей городов - но на это уже не осталось времени. Жаль :("
   ]
  }
 ],
 "metadata": {
  "kernelspec": {
   "display_name": "Python 3",
   "language": "python",
   "name": "python3"
  },
  "language_info": {
   "codemirror_mode": {
    "name": "ipython",
    "version": 3
   },
   "file_extension": ".py",
   "mimetype": "text/x-python",
   "name": "python",
   "nbconvert_exporter": "python",
   "pygments_lexer": "ipython3",
   "version": "3.8.5"
  }
 },
 "nbformat": 4,
 "nbformat_minor": 4
}
